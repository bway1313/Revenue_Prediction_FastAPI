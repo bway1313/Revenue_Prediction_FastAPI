{
 "cells": [
  {
   "cell_type": "code",
   "execution_count": 3,
   "id": "8c53eee1-336a-41a9-9c4d-c8254ec27289",
   "metadata": {
    "tags": []
   },
   "outputs": [],
   "source": [
    "from fastapi.testclient import TestClient\n",
    "from ridge_app import api  # Import your FastAPI app instance\n",
    "\n",
    "client = TestClient(api)\n",
    "\n",
    "def test_predict_revenue(mocker):\n",
    "    # Arrange: Prepare the input payload and mock the predict function\n",
    "    request_body = {\n",
    "        \"Gas_Price\": 3.5,\n",
    "        \"day_count\": 10,\n",
    "        \"Daily_Revenue_Lag14\": 1500.0,\n",
    "        \"Daily_Revenue_Lag7\": 1600.0,\n",
    "        \"CPI\": 2.8,\n",
    "        \"day_1\": 0,\n",
    "        \"day_2\": 1,\n",
    "        \"day_3\": 0,\n",
    "        \"day_4\": 1,\n",
    "        \"day_6\": 0\n",
    "    }\n",
    "    # Mock the predict function to return a specific value\n",
    "    mocker.patch(\"app.predict\", return_value=5000.0)\n",
    "\n",
    "    # Act: Send a POST request to the /predict_revenue endpoint\n",
    "    response = client.post(\"/predict_revenue\", json=request_body)\n",
    "\n",
    "    # Assert: Verify the response status and body\n",
    "    assert response.status_code == 200\n",
    "    assert response.json() == {\"predicted_revenue\": 5000.0}\n"
   ]
  },
  {
   "cell_type": "code",
   "execution_count": null,
   "id": "28ff19ac-2e00-49a9-ba86-6d272484ab7a",
   "metadata": {},
   "outputs": [],
   "source": []
  }
 ],
 "metadata": {
  "kernelspec": {
   "display_name": "Python 3 (ipykernel)",
   "language": "python",
   "name": "python3"
  },
  "language_info": {
   "codemirror_mode": {
    "name": "ipython",
    "version": 3
   },
   "file_extension": ".py",
   "mimetype": "text/x-python",
   "name": "python",
   "nbconvert_exporter": "python",
   "pygments_lexer": "ipython3",
   "version": "3.11.9"
  }
 },
 "nbformat": 4,
 "nbformat_minor": 5
}
