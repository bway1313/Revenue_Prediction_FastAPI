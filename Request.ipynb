{
 "cells": [
  {
   "cell_type": "code",
   "execution_count": 5,
   "id": "1a864574-9dcc-4169-b55b-4c87e4a4ec20",
   "metadata": {
    "tags": []
   },
   "outputs": [
    {
     "name": "stdout",
     "output_type": "stream",
     "text": [
      "{'predicted_revenue': 19988.501962978724}\n"
     ]
    }
   ],
   "source": [
    "import requests\n",
    "\n",
    "# Define the API URL\n",
    "url = \"http://127.0.0.1:8000/predict_revenue\"\n",
    "\n",
    "# Define input data\n",
    "params = {\n",
    "    \"Gas_Price\": 3,\n",
    "    \"day_count\": 40.0,\n",
    "    \"Daily_Revenue_Lag14\": 31774.0,\n",
    "    \"Daily_Revenue_Lag7\": 17329.0,\n",
    "    \"CPI\": 1.0,\n",
    "    \"day_1\": 0,\n",
    "    \"day_2\": 0,\n",
    "    \"day_3\": 0,\n",
    "    \"day_4\": 0,\n",
    "    \"day_6\": 1,\n",
    "}\n",
    "\n",
    "# Send a POST request\n",
    "response = requests.post(url, params=params)\n",
    "\n",
    "# Print the response\n",
    "print(response.json())\n"
   ]
  },
  {
   "cell_type": "code",
   "execution_count": null,
   "id": "64ffbcba-5f94-471f-8c4d-ca076b3ce747",
   "metadata": {},
   "outputs": [],
   "source": []
  }
 ],
 "metadata": {
  "kernelspec": {
   "display_name": "Python 3 (ipykernel)",
   "language": "python",
   "name": "python3"
  },
  "language_info": {
   "codemirror_mode": {
    "name": "ipython",
    "version": 3
   },
   "file_extension": ".py",
   "mimetype": "text/x-python",
   "name": "python",
   "nbconvert_exporter": "python",
   "pygments_lexer": "ipython3",
   "version": "3.11.9"
  }
 },
 "nbformat": 4,
 "nbformat_minor": 5
}
